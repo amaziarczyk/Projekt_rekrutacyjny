{
  "nbformat": 4,
  "nbformat_minor": 0,
  "metadata": {
    "colab": {
      "name": "Projekt_rekrutacyjny_Struktura kapitału.ipynb",
      "provenance": [],
      "collapsed_sections": [],
      "mount_file_id": "1u5AI4nBj8rC9XflVRpCw2IzQlR3VgJg1",
      "authorship_tag": "ABX9TyM4mkdAzGWv7cPDWKlutZNN",
      "include_colab_link": true
    },
    "kernelspec": {
      "name": "python3",
      "display_name": "Python 3"
    }
  },
  "cells": [
    {
      "cell_type": "markdown",
      "metadata": {
        "id": "view-in-github",
        "colab_type": "text"
      },
      "source": [
        "<a href=\"https://colab.research.google.com/github/amaziarczyk/Projekt_rekrutacyjny/blob/main/Projekt_rekrutacyjny_Struktura_kapita%C5%82u.ipynb\" target=\"_parent\"><img src=\"https://colab.research.google.com/assets/colab-badge.svg\" alt=\"Open In Colab\"/></a>"
      ]
    },
    {
      "cell_type": "markdown",
      "metadata": {
        "id": "bxmIzxcHNIjB"
      },
      "source": [
        "*Anna Maziarczyk*\n",
        "# Model regresji liniowej\n",
        "\n",
        "Buduje model predykcji struktury kapitału przedsiębiorstw polskich. Dane pochodaż z serwisu Notoria. Daza danych została zbudowana samodzielnie przy pomocy PowerQuery oraz SQL.\n",
        "\n",
        "Zmienne są następujące:\n",
        "\n",
        "Zmienna zależna: \n",
        "*   \"Struktura\" - relacja długu do majątku ogółem\n",
        "\n",
        "Zmienne ojbaśniające:\n",
        "\n",
        "*  sektor - analizuję sektor przemysłu i usług\n",
        "*   mediana sektora - mediana zadłużenia sektora\n",
        "*   średnia zadł ogół - zobowiązania ogółek / aktywa ogółem\n",
        "*   podatek - podatek dochodowy / EBIT\n",
        "*   średnia ROA - ROA\n",
        "*   ln SIZE - logarytm naturalny aktywów ogólem\n",
        "*   wsk rzecz ak trw/ao - rzeczowe aktywa trwałe / aktywa ogółem\n",
        "*   wskaźnik dywidendy - wypłacone dywidendy / aktywa ogółem\n",
        "*   ryzyko - odsetki wypłacone / EBIT\n",
        "*   dźwignia finansowa \n",
        "\n"
      ]
    },
    {
      "cell_type": "code",
      "metadata": {
        "id": "7j_fn0Ew7xQH"
      },
      "source": [
        "import pandas as pd\n",
        "import numpy as np\n",
        "import plotly.express as plt\n",
        "import sklearn "
      ],
      "execution_count": null,
      "outputs": []
    },
    {
      "cell_type": "code",
      "metadata": {
        "colab": {
          "base_uri": "https://localhost:8080/",
          "height": 224
        },
        "id": "Pz3CG4048AZ8",
        "outputId": "5a0f4d33-cf27-47c2-897d-58812e9576d3"
      },
      "source": [
        "df2=pd.read_excel(\"/content/drive/MyDrive/Artykuł struktura kapitału/Zeszyt1.xlsx\")\n",
        "df=df2.copy()\n",
        "df.head()"
      ],
      "execution_count": null,
      "outputs": [
        {
          "output_type": "execute_result",
          "data": {
            "text/html": [
              "<div>\n",
              "<style scoped>\n",
              "    .dataframe tbody tr th:only-of-type {\n",
              "        vertical-align: middle;\n",
              "    }\n",
              "\n",
              "    .dataframe tbody tr th {\n",
              "        vertical-align: top;\n",
              "    }\n",
              "\n",
              "    .dataframe thead th {\n",
              "        text-align: right;\n",
              "    }\n",
              "</style>\n",
              "<table border=\"1\" class=\"dataframe\">\n",
              "  <thead>\n",
              "    <tr style=\"text-align: right;\">\n",
              "      <th></th>\n",
              "      <th>Source.Name.1</th>\n",
              "      <th>sektor</th>\n",
              "      <th>mediana</th>\n",
              "      <th>średnia zadł ogół</th>\n",
              "      <th>podatek</th>\n",
              "      <th>średnia ROA</th>\n",
              "      <th>ln SIZE</th>\n",
              "      <th>wsk rzecz ak trw/ao</th>\n",
              "      <th>wskażnik dywidendy</th>\n",
              "      <th>ryzyko</th>\n",
              "      <th>średnia wsk dźwig fin</th>\n",
              "      <th>Struktura</th>\n",
              "    </tr>\n",
              "  </thead>\n",
              "  <tbody>\n",
              "    <tr>\n",
              "      <th>0</th>\n",
              "      <td>AGORA</td>\n",
              "      <td>usługi</td>\n",
              "      <td>0.54</td>\n",
              "      <td>0.268842</td>\n",
              "      <td>0.629528</td>\n",
              "      <td>0.016473</td>\n",
              "      <td>2.660557</td>\n",
              "      <td>0.808878</td>\n",
              "      <td>0.033130</td>\n",
              "      <td>0.482471</td>\n",
              "      <td>1.366505</td>\n",
              "      <td>0.018795</td>\n",
              "    </tr>\n",
              "    <tr>\n",
              "      <th>1</th>\n",
              "      <td>AMICA</td>\n",
              "      <td>przemysł</td>\n",
              "      <td>0.46</td>\n",
              "      <td>0.591172</td>\n",
              "      <td>0.069862</td>\n",
              "      <td>0.047287</td>\n",
              "      <td>2.625140</td>\n",
              "      <td>0.486058</td>\n",
              "      <td>0.038090</td>\n",
              "      <td>0.198194</td>\n",
              "      <td>2.669319</td>\n",
              "      <td>0.042818</td>\n",
              "    </tr>\n",
              "    <tr>\n",
              "      <th>2</th>\n",
              "      <td>AMREST</td>\n",
              "      <td>usługi</td>\n",
              "      <td>0.54</td>\n",
              "      <td>0.585974</td>\n",
              "      <td>0.125818</td>\n",
              "      <td>0.049117</td>\n",
              "      <td>2.658260</td>\n",
              "      <td>0.864786</td>\n",
              "      <td>0.001041</td>\n",
              "      <td>0.153558</td>\n",
              "      <td>2.451094</td>\n",
              "      <td>0.041059</td>\n",
              "    </tr>\n",
              "    <tr>\n",
              "      <th>3</th>\n",
              "      <td>APATOR</td>\n",
              "      <td>przemysł</td>\n",
              "      <td>0.46</td>\n",
              "      <td>0.407365</td>\n",
              "      <td>0.154644</td>\n",
              "      <td>0.129215</td>\n",
              "      <td>2.561322</td>\n",
              "      <td>0.565156</td>\n",
              "      <td>0.102120</td>\n",
              "      <td>0.035926</td>\n",
              "      <td>1.706892</td>\n",
              "      <td>0.031450</td>\n",
              "    </tr>\n",
              "    <tr>\n",
              "      <th>4</th>\n",
              "      <td>APLISENS</td>\n",
              "      <td>przemysł</td>\n",
              "      <td>0.46</td>\n",
              "      <td>0.091589</td>\n",
              "      <td>0.151960</td>\n",
              "      <td>0.140450</td>\n",
              "      <td>2.435260</td>\n",
              "      <td>1.020143</td>\n",
              "      <td>0.054106</td>\n",
              "      <td>0.001844</td>\n",
              "      <td>1.101638</td>\n",
              "      <td>0.008021</td>\n",
              "    </tr>\n",
              "  </tbody>\n",
              "</table>\n",
              "</div>"
            ],
            "text/plain": [
              "  Source.Name.1    sektor  mediana  ...    ryzyko  średnia wsk dźwig fin  Struktura\n",
              "0         AGORA    usługi     0.54  ...  0.482471               1.366505   0.018795\n",
              "1         AMICA  przemysł     0.46  ...  0.198194               2.669319   0.042818\n",
              "2        AMREST    usługi     0.54  ...  0.153558               2.451094   0.041059\n",
              "3        APATOR  przemysł     0.46  ...  0.035926               1.706892   0.031450\n",
              "4      APLISENS  przemysł     0.46  ...  0.001844               1.101638   0.008021\n",
              "\n",
              "[5 rows x 12 columns]"
            ]
          },
          "metadata": {
            "tags": []
          },
          "execution_count": 8
        }
      ]
    },
    {
      "cell_type": "code",
      "metadata": {
        "colab": {
          "base_uri": "https://localhost:8080/"
        },
        "id": "oBqIp45v8P3C",
        "outputId": "1e74e4f8-cff5-4ad5-f557-1f5a24990d4f"
      },
      "source": [
        "df['sektor'].value_counts()"
      ],
      "execution_count": null,
      "outputs": [
        {
          "output_type": "execute_result",
          "data": {
            "text/plain": [
              "przemysł    99\n",
              "usługi      48\n",
              "Name: sektor, dtype: int64"
            ]
          },
          "metadata": {
            "tags": []
          },
          "execution_count": 11
        }
      ]
    },
    {
      "cell_type": "code",
      "metadata": {
        "colab": {
          "base_uri": "https://localhost:8080/"
        },
        "id": "xMK3iket8uHp",
        "outputId": "cddfbb59-b9ac-468b-99df-ae0722556a13"
      },
      "source": [
        "df.info()"
      ],
      "execution_count": null,
      "outputs": [
        {
          "output_type": "stream",
          "text": [
            "<class 'pandas.core.frame.DataFrame'>\n",
            "RangeIndex: 147 entries, 0 to 146\n",
            "Data columns (total 12 columns):\n",
            " #   Column                 Non-Null Count  Dtype  \n",
            "---  ------                 --------------  -----  \n",
            " 0   Source.Name.1          147 non-null    object \n",
            " 1   sektor                 147 non-null    object \n",
            " 2   mediana                147 non-null    float64\n",
            " 3   średnia zadł ogół      147 non-null    float64\n",
            " 4   podatek                147 non-null    float64\n",
            " 5   średnia ROA            147 non-null    float64\n",
            " 6   ln SIZE                147 non-null    float64\n",
            " 7   wsk rzecz ak trw/ao    147 non-null    float64\n",
            " 8   wskażnik dywidendy     147 non-null    float64\n",
            " 9   ryzyko                 147 non-null    float64\n",
            " 10  średnia wsk dźwig fin  147 non-null    float64\n",
            " 11  Struktura              147 non-null    float64\n",
            "dtypes: float64(10), object(2)\n",
            "memory usage: 13.9+ KB\n"
          ],
          "name": "stdout"
        }
      ]
    },
    {
      "cell_type": "code",
      "metadata": {
        "colab": {
          "base_uri": "https://localhost:8080/",
          "height": 363
        },
        "id": "ZS-V4EDI83gJ",
        "outputId": "b6d0c287-9d7d-4720-abb0-2da76dff93f7"
      },
      "source": [
        "df.describe().T"
      ],
      "execution_count": null,
      "outputs": [
        {
          "output_type": "execute_result",
          "data": {
            "text/html": [
              "<div>\n",
              "<style scoped>\n",
              "    .dataframe tbody tr th:only-of-type {\n",
              "        vertical-align: middle;\n",
              "    }\n",
              "\n",
              "    .dataframe tbody tr th {\n",
              "        vertical-align: top;\n",
              "    }\n",
              "\n",
              "    .dataframe thead th {\n",
              "        text-align: right;\n",
              "    }\n",
              "</style>\n",
              "<table border=\"1\" class=\"dataframe\">\n",
              "  <thead>\n",
              "    <tr style=\"text-align: right;\">\n",
              "      <th></th>\n",
              "      <th>count</th>\n",
              "      <th>mean</th>\n",
              "      <th>std</th>\n",
              "      <th>min</th>\n",
              "      <th>25%</th>\n",
              "      <th>50%</th>\n",
              "      <th>75%</th>\n",
              "      <th>max</th>\n",
              "    </tr>\n",
              "  </thead>\n",
              "  <tbody>\n",
              "    <tr>\n",
              "      <th>mediana</th>\n",
              "      <td>147.0</td>\n",
              "      <td>0.486122</td>\n",
              "      <td>0.037644</td>\n",
              "      <td>0.460000</td>\n",
              "      <td>0.460000</td>\n",
              "      <td>0.460000</td>\n",
              "      <td>0.540000</td>\n",
              "      <td>0.540000</td>\n",
              "    </tr>\n",
              "    <tr>\n",
              "      <th>średnia zadł ogół</th>\n",
              "      <td>147.0</td>\n",
              "      <td>0.490188</td>\n",
              "      <td>0.189885</td>\n",
              "      <td>0.091589</td>\n",
              "      <td>0.359132</td>\n",
              "      <td>0.474585</td>\n",
              "      <td>0.592034</td>\n",
              "      <td>1.513936</td>\n",
              "    </tr>\n",
              "    <tr>\n",
              "      <th>podatek</th>\n",
              "      <td>147.0</td>\n",
              "      <td>0.273687</td>\n",
              "      <td>0.641086</td>\n",
              "      <td>0.001157</td>\n",
              "      <td>0.117073</td>\n",
              "      <td>0.169385</td>\n",
              "      <td>0.222351</td>\n",
              "      <td>6.942928</td>\n",
              "    </tr>\n",
              "    <tr>\n",
              "      <th>średnia ROA</th>\n",
              "      <td>147.0</td>\n",
              "      <td>0.032426</td>\n",
              "      <td>0.058864</td>\n",
              "      <td>-0.237710</td>\n",
              "      <td>0.005507</td>\n",
              "      <td>0.039743</td>\n",
              "      <td>0.061134</td>\n",
              "      <td>0.167009</td>\n",
              "    </tr>\n",
              "    <tr>\n",
              "      <th>ln SIZE</th>\n",
              "      <td>147.0</td>\n",
              "      <td>2.563755</td>\n",
              "      <td>0.125509</td>\n",
              "      <td>2.303283</td>\n",
              "      <td>2.468733</td>\n",
              "      <td>2.561136</td>\n",
              "      <td>2.651538</td>\n",
              "      <td>3.000861</td>\n",
              "    </tr>\n",
              "    <tr>\n",
              "      <th>wsk rzecz ak trw/ao</th>\n",
              "      <td>147.0</td>\n",
              "      <td>0.604101</td>\n",
              "      <td>0.452563</td>\n",
              "      <td>0.001196</td>\n",
              "      <td>0.230715</td>\n",
              "      <td>0.565156</td>\n",
              "      <td>0.945867</td>\n",
              "      <td>1.778996</td>\n",
              "    </tr>\n",
              "    <tr>\n",
              "      <th>wskażnik dywidendy</th>\n",
              "      <td>147.0</td>\n",
              "      <td>0.056354</td>\n",
              "      <td>0.066539</td>\n",
              "      <td>0.000000</td>\n",
              "      <td>0.018659</td>\n",
              "      <td>0.045770</td>\n",
              "      <td>0.064634</td>\n",
              "      <td>0.548264</td>\n",
              "    </tr>\n",
              "    <tr>\n",
              "      <th>ryzyko</th>\n",
              "      <td>147.0</td>\n",
              "      <td>0.367895</td>\n",
              "      <td>0.775370</td>\n",
              "      <td>0.001844</td>\n",
              "      <td>0.071887</td>\n",
              "      <td>0.157211</td>\n",
              "      <td>0.343918</td>\n",
              "      <td>7.781722</td>\n",
              "    </tr>\n",
              "    <tr>\n",
              "      <th>średnia wsk dźwig fin</th>\n",
              "      <td>147.0</td>\n",
              "      <td>2.242022</td>\n",
              "      <td>1.400967</td>\n",
              "      <td>-5.590947</td>\n",
              "      <td>1.561740</td>\n",
              "      <td>1.891064</td>\n",
              "      <td>2.551311</td>\n",
              "      <td>9.203893</td>\n",
              "    </tr>\n",
              "    <tr>\n",
              "      <th>Struktura</th>\n",
              "      <td>147.0</td>\n",
              "      <td>0.037570</td>\n",
              "      <td>0.015131</td>\n",
              "      <td>0.008021</td>\n",
              "      <td>0.027885</td>\n",
              "      <td>0.035503</td>\n",
              "      <td>0.046035</td>\n",
              "      <td>0.134787</td>\n",
              "    </tr>\n",
              "  </tbody>\n",
              "</table>\n",
              "</div>"
            ],
            "text/plain": [
              "                       count      mean       std  ...       50%       75%       max\n",
              "mediana                147.0  0.486122  0.037644  ...  0.460000  0.540000  0.540000\n",
              "średnia zadł ogół      147.0  0.490188  0.189885  ...  0.474585  0.592034  1.513936\n",
              "podatek                147.0  0.273687  0.641086  ...  0.169385  0.222351  6.942928\n",
              "średnia ROA            147.0  0.032426  0.058864  ...  0.039743  0.061134  0.167009\n",
              "ln SIZE                147.0  2.563755  0.125509  ...  2.561136  2.651538  3.000861\n",
              "wsk rzecz ak trw/ao    147.0  0.604101  0.452563  ...  0.565156  0.945867  1.778996\n",
              "wskażnik dywidendy     147.0  0.056354  0.066539  ...  0.045770  0.064634  0.548264\n",
              "ryzyko                 147.0  0.367895  0.775370  ...  0.157211  0.343918  7.781722\n",
              "średnia wsk dźwig fin  147.0  2.242022  1.400967  ...  1.891064  2.551311  9.203893\n",
              "Struktura              147.0  0.037570  0.015131  ...  0.035503  0.046035  0.134787\n",
              "\n",
              "[10 rows x 8 columns]"
            ]
          },
          "metadata": {
            "tags": []
          },
          "execution_count": 14
        }
      ]
    },
    {
      "cell_type": "code",
      "metadata": {
        "colab": {
          "base_uri": "https://localhost:8080/",
          "height": 206
        },
        "id": "ulhzcfDBCzFZ",
        "outputId": "7043ae14-b225-4088-bfba-4a1771e2529e"
      },
      "source": [
        "df=df2.copy()\n",
        "df=df.drop(\"Source.Name.1\", axis=1)\n",
        "df.head()"
      ],
      "execution_count": null,
      "outputs": [
        {
          "output_type": "execute_result",
          "data": {
            "text/html": [
              "<div>\n",
              "<style scoped>\n",
              "    .dataframe tbody tr th:only-of-type {\n",
              "        vertical-align: middle;\n",
              "    }\n",
              "\n",
              "    .dataframe tbody tr th {\n",
              "        vertical-align: top;\n",
              "    }\n",
              "\n",
              "    .dataframe thead th {\n",
              "        text-align: right;\n",
              "    }\n",
              "</style>\n",
              "<table border=\"1\" class=\"dataframe\">\n",
              "  <thead>\n",
              "    <tr style=\"text-align: right;\">\n",
              "      <th></th>\n",
              "      <th>sektor</th>\n",
              "      <th>mediana</th>\n",
              "      <th>średnia zadł ogół</th>\n",
              "      <th>podatek</th>\n",
              "      <th>średnia ROA</th>\n",
              "      <th>ln SIZE</th>\n",
              "      <th>wsk rzecz ak trw/ao</th>\n",
              "      <th>wskażnik dywidendy</th>\n",
              "      <th>ryzyko</th>\n",
              "      <th>średnia wsk dźwig fin</th>\n",
              "      <th>Struktura</th>\n",
              "    </tr>\n",
              "  </thead>\n",
              "  <tbody>\n",
              "    <tr>\n",
              "      <th>0</th>\n",
              "      <td>usługi</td>\n",
              "      <td>0.54</td>\n",
              "      <td>0.268842</td>\n",
              "      <td>0.629528</td>\n",
              "      <td>0.016473</td>\n",
              "      <td>2.660557</td>\n",
              "      <td>0.808878</td>\n",
              "      <td>0.033130</td>\n",
              "      <td>0.482471</td>\n",
              "      <td>1.366505</td>\n",
              "      <td>0.018795</td>\n",
              "    </tr>\n",
              "    <tr>\n",
              "      <th>1</th>\n",
              "      <td>przemysł</td>\n",
              "      <td>0.46</td>\n",
              "      <td>0.591172</td>\n",
              "      <td>0.069862</td>\n",
              "      <td>0.047287</td>\n",
              "      <td>2.625140</td>\n",
              "      <td>0.486058</td>\n",
              "      <td>0.038090</td>\n",
              "      <td>0.198194</td>\n",
              "      <td>2.669319</td>\n",
              "      <td>0.042818</td>\n",
              "    </tr>\n",
              "    <tr>\n",
              "      <th>2</th>\n",
              "      <td>usługi</td>\n",
              "      <td>0.54</td>\n",
              "      <td>0.585974</td>\n",
              "      <td>0.125818</td>\n",
              "      <td>0.049117</td>\n",
              "      <td>2.658260</td>\n",
              "      <td>0.864786</td>\n",
              "      <td>0.001041</td>\n",
              "      <td>0.153558</td>\n",
              "      <td>2.451094</td>\n",
              "      <td>0.041059</td>\n",
              "    </tr>\n",
              "    <tr>\n",
              "      <th>3</th>\n",
              "      <td>przemysł</td>\n",
              "      <td>0.46</td>\n",
              "      <td>0.407365</td>\n",
              "      <td>0.154644</td>\n",
              "      <td>0.129215</td>\n",
              "      <td>2.561322</td>\n",
              "      <td>0.565156</td>\n",
              "      <td>0.102120</td>\n",
              "      <td>0.035926</td>\n",
              "      <td>1.706892</td>\n",
              "      <td>0.031450</td>\n",
              "    </tr>\n",
              "    <tr>\n",
              "      <th>4</th>\n",
              "      <td>przemysł</td>\n",
              "      <td>0.46</td>\n",
              "      <td>0.091589</td>\n",
              "      <td>0.151960</td>\n",
              "      <td>0.140450</td>\n",
              "      <td>2.435260</td>\n",
              "      <td>1.020143</td>\n",
              "      <td>0.054106</td>\n",
              "      <td>0.001844</td>\n",
              "      <td>1.101638</td>\n",
              "      <td>0.008021</td>\n",
              "    </tr>\n",
              "  </tbody>\n",
              "</table>\n",
              "</div>"
            ],
            "text/plain": [
              "     sektor  mediana  ...  średnia wsk dźwig fin  Struktura\n",
              "0    usługi     0.54  ...               1.366505   0.018795\n",
              "1  przemysł     0.46  ...               2.669319   0.042818\n",
              "2    usługi     0.54  ...               2.451094   0.041059\n",
              "3  przemysł     0.46  ...               1.706892   0.031450\n",
              "4  przemysł     0.46  ...               1.101638   0.008021\n",
              "\n",
              "[5 rows x 11 columns]"
            ]
          },
          "metadata": {
            "tags": []
          },
          "execution_count": 40
        }
      ]
    },
    {
      "cell_type": "code",
      "metadata": {
        "id": "66FvkF_TDDPu"
      },
      "source": [
        "# koduję zmienną kategoryczną \"sektor\"\n",
        "df=pd.get_dummies(data=df, drop_first=True)"
      ],
      "execution_count": null,
      "outputs": []
    },
    {
      "cell_type": "code",
      "metadata": {
        "colab": {
          "base_uri": "https://localhost:8080/",
          "height": 206
        },
        "id": "cgTedJ5E87DE",
        "outputId": "8b483846-b23e-44ac-bd40-bd91991e65c3"
      },
      "source": [
        "data=df.copy()\n",
        "target=data.pop(\"Struktura\")\n",
        "data.head()"
      ],
      "execution_count": null,
      "outputs": [
        {
          "output_type": "execute_result",
          "data": {
            "text/html": [
              "<div>\n",
              "<style scoped>\n",
              "    .dataframe tbody tr th:only-of-type {\n",
              "        vertical-align: middle;\n",
              "    }\n",
              "\n",
              "    .dataframe tbody tr th {\n",
              "        vertical-align: top;\n",
              "    }\n",
              "\n",
              "    .dataframe thead th {\n",
              "        text-align: right;\n",
              "    }\n",
              "</style>\n",
              "<table border=\"1\" class=\"dataframe\">\n",
              "  <thead>\n",
              "    <tr style=\"text-align: right;\">\n",
              "      <th></th>\n",
              "      <th>mediana</th>\n",
              "      <th>średnia zadł ogół</th>\n",
              "      <th>podatek</th>\n",
              "      <th>średnia ROA</th>\n",
              "      <th>ln SIZE</th>\n",
              "      <th>wsk rzecz ak trw/ao</th>\n",
              "      <th>wskażnik dywidendy</th>\n",
              "      <th>ryzyko</th>\n",
              "      <th>średnia wsk dźwig fin</th>\n",
              "      <th>sektor_usługi</th>\n",
              "    </tr>\n",
              "  </thead>\n",
              "  <tbody>\n",
              "    <tr>\n",
              "      <th>0</th>\n",
              "      <td>0.54</td>\n",
              "      <td>0.268842</td>\n",
              "      <td>0.629528</td>\n",
              "      <td>0.016473</td>\n",
              "      <td>2.660557</td>\n",
              "      <td>0.808878</td>\n",
              "      <td>0.033130</td>\n",
              "      <td>0.482471</td>\n",
              "      <td>1.366505</td>\n",
              "      <td>1</td>\n",
              "    </tr>\n",
              "    <tr>\n",
              "      <th>1</th>\n",
              "      <td>0.46</td>\n",
              "      <td>0.591172</td>\n",
              "      <td>0.069862</td>\n",
              "      <td>0.047287</td>\n",
              "      <td>2.625140</td>\n",
              "      <td>0.486058</td>\n",
              "      <td>0.038090</td>\n",
              "      <td>0.198194</td>\n",
              "      <td>2.669319</td>\n",
              "      <td>0</td>\n",
              "    </tr>\n",
              "    <tr>\n",
              "      <th>2</th>\n",
              "      <td>0.54</td>\n",
              "      <td>0.585974</td>\n",
              "      <td>0.125818</td>\n",
              "      <td>0.049117</td>\n",
              "      <td>2.658260</td>\n",
              "      <td>0.864786</td>\n",
              "      <td>0.001041</td>\n",
              "      <td>0.153558</td>\n",
              "      <td>2.451094</td>\n",
              "      <td>1</td>\n",
              "    </tr>\n",
              "    <tr>\n",
              "      <th>3</th>\n",
              "      <td>0.46</td>\n",
              "      <td>0.407365</td>\n",
              "      <td>0.154644</td>\n",
              "      <td>0.129215</td>\n",
              "      <td>2.561322</td>\n",
              "      <td>0.565156</td>\n",
              "      <td>0.102120</td>\n",
              "      <td>0.035926</td>\n",
              "      <td>1.706892</td>\n",
              "      <td>0</td>\n",
              "    </tr>\n",
              "    <tr>\n",
              "      <th>4</th>\n",
              "      <td>0.46</td>\n",
              "      <td>0.091589</td>\n",
              "      <td>0.151960</td>\n",
              "      <td>0.140450</td>\n",
              "      <td>2.435260</td>\n",
              "      <td>1.020143</td>\n",
              "      <td>0.054106</td>\n",
              "      <td>0.001844</td>\n",
              "      <td>1.101638</td>\n",
              "      <td>0</td>\n",
              "    </tr>\n",
              "  </tbody>\n",
              "</table>\n",
              "</div>"
            ],
            "text/plain": [
              "   mediana  średnia zadł ogół  ...  średnia wsk dźwig fin  sektor_usługi\n",
              "0     0.54           0.268842  ...               1.366505              1\n",
              "1     0.46           0.591172  ...               2.669319              0\n",
              "2     0.54           0.585974  ...               2.451094              1\n",
              "3     0.46           0.407365  ...               1.706892              0\n",
              "4     0.46           0.091589  ...               1.101638              0\n",
              "\n",
              "[5 rows x 10 columns]"
            ]
          },
          "metadata": {
            "tags": []
          },
          "execution_count": 43
        }
      ]
    },
    {
      "cell_type": "code",
      "metadata": {
        "colab": {
          "base_uri": "https://localhost:8080/"
        },
        "id": "TPU85EE7-LBX",
        "outputId": "6df0a3af-545e-42a5-82bc-1673b0a2ad9f"
      },
      "source": [
        "target.head()"
      ],
      "execution_count": null,
      "outputs": [
        {
          "output_type": "execute_result",
          "data": {
            "text/plain": [
              "0    0.018795\n",
              "1    0.042818\n",
              "2    0.041059\n",
              "3    0.031450\n",
              "4    0.008021\n",
              "Name: Struktura, dtype: float64"
            ]
          },
          "metadata": {
            "tags": []
          },
          "execution_count": 44
        }
      ]
    },
    {
      "cell_type": "code",
      "metadata": {
        "id": "8bCq2Otm-O36"
      },
      "source": [
        "# dziele dane na treningowe i testowe\n",
        "\n",
        "from sklearn.model_selection import train_test_split"
      ],
      "execution_count": null,
      "outputs": []
    },
    {
      "cell_type": "code",
      "metadata": {
        "colab": {
          "base_uri": "https://localhost:8080/"
        },
        "id": "flBg1FYC-fw3",
        "outputId": "1dcdc45e-0372-4f94-9aac-991aaa1e4606"
      },
      "source": [
        "X_train, X_test, y_train, y_test= train_test_split(data, target, random_state=42)\n",
        "\n",
        "print(f'X_train shape {X_train.shape}')\n",
        "print(f'y_train shape {y_train.shape}')\n",
        "print(f'X_test shape {X_test.shape}')\n",
        "print(f'y_test shape {y_test.shape}')\n",
        "print(f'\\nTest ratio: {len(X_test) / len(data):.2f}')\n",
        "print(f'\\ny_train:\\n{y_train.value_counts()}')\n",
        "print(f'\\ny_test:\\n{y_test.value_counts()}')\n",
        "\n"
      ],
      "execution_count": null,
      "outputs": [
        {
          "output_type": "stream",
          "text": [
            "X_train shape (110, 10)\n",
            "y_train shape (110,)\n",
            "X_test shape (37, 10)\n",
            "y_test shape (37,)\n",
            "\n",
            "Test ratio: 0.25\n",
            "\n",
            "y_train:\n",
            "0.026872    2\n",
            "0.058309    1\n",
            "0.025941    1\n",
            "0.019678    1\n",
            "0.043542    1\n",
            "           ..\n",
            "0.023892    1\n",
            "0.040963    1\n",
            "0.030717    1\n",
            "0.042348    1\n",
            "0.035456    1\n",
            "Name: Struktura, Length: 109, dtype: int64\n",
            "\n",
            "y_test:\n",
            "0.035187    2\n",
            "0.029363    1\n",
            "0.055910    1\n",
            "0.023083    1\n",
            "0.049843    1\n",
            "0.046644    1\n",
            "0.042591    1\n",
            "0.024014    1\n",
            "0.029104    1\n",
            "0.043483    1\n",
            "0.028965    1\n",
            "0.052352    1\n",
            "0.033743    1\n",
            "0.031655    1\n",
            "0.060035    1\n",
            "0.014925    1\n",
            "0.038629    1\n",
            "0.040512    1\n",
            "0.062636    1\n",
            "0.052358    1\n",
            "0.035118    1\n",
            "0.037937    1\n",
            "0.020150    1\n",
            "0.134787    1\n",
            "0.008021    1\n",
            "0.030622    1\n",
            "0.052475    1\n",
            "0.023035    1\n",
            "0.046839    1\n",
            "0.051724    1\n",
            "0.035584    1\n",
            "0.040332    1\n",
            "0.041523    1\n",
            "0.019584    1\n",
            "0.040915    1\n",
            "0.027157    1\n",
            "Name: Struktura, dtype: int64\n"
          ],
          "name": "stdout"
        }
      ]
    },
    {
      "cell_type": "code",
      "metadata": {
        "id": "x4bS1pbNABjC"
      },
      "source": [
        "from sklearn.linear_model import LinearRegression"
      ],
      "execution_count": null,
      "outputs": []
    },
    {
      "cell_type": "code",
      "metadata": {
        "colab": {
          "base_uri": "https://localhost:8080/"
        },
        "id": "CGDF08crAFVX",
        "outputId": "4ba486c8-6640-4257-d6a0-3adad6321140"
      },
      "source": [
        "regressor = LinearRegression()\n",
        "regressor.fit(X_train, y_train)\n",
        " \n",
        "print(f'R2 score: {regressor.score(X_test, y_test):.4f}')\n"
      ],
      "execution_count": null,
      "outputs": [
        {
          "output_type": "stream",
          "text": [
            "R2 score: 0.9717\n"
          ],
          "name": "stdout"
        }
      ]
    },
    {
      "cell_type": "code",
      "metadata": {
        "colab": {
          "base_uri": "https://localhost:8080/"
        },
        "id": "pXASAWFbEyFi",
        "outputId": "a615aec6-e1f6-4077-e805-2b4a98ac8c91"
      },
      "source": [
        "# importuję bibliotekę do kolejnych obliczeń statystycznych  \n",
        "\n",
        "import statsmodels.api as sm"
      ],
      "execution_count": null,
      "outputs": [
        {
          "output_type": "stream",
          "text": [
            "/usr/local/lib/python3.6/dist-packages/statsmodels/tools/_testing.py:19: FutureWarning:\n",
            "\n",
            "pandas.util.testing is deprecated. Use the functions in the public API at pandas.testing instead.\n",
            "\n"
          ],
          "name": "stderr"
        }
      ]
    },
    {
      "cell_type": "code",
      "metadata": {
        "colab": {
          "base_uri": "https://localhost:8080/",
          "height": 224
        },
        "id": "-F07RCA7E3VR",
        "outputId": "addfaea0-8a7e-4b3c-f4f3-a1431e1153a0"
      },
      "source": [
        "X_train_ols=X_train.copy()\n",
        "X_train_ols=sm.add_constant(X_train_ols)\n",
        "X_train_ols.head()"
      ],
      "execution_count": null,
      "outputs": [
        {
          "output_type": "execute_result",
          "data": {
            "text/html": [
              "<div>\n",
              "<style scoped>\n",
              "    .dataframe tbody tr th:only-of-type {\n",
              "        vertical-align: middle;\n",
              "    }\n",
              "\n",
              "    .dataframe tbody tr th {\n",
              "        vertical-align: top;\n",
              "    }\n",
              "\n",
              "    .dataframe thead th {\n",
              "        text-align: right;\n",
              "    }\n",
              "</style>\n",
              "<table border=\"1\" class=\"dataframe\">\n",
              "  <thead>\n",
              "    <tr style=\"text-align: right;\">\n",
              "      <th></th>\n",
              "      <th>const</th>\n",
              "      <th>mediana</th>\n",
              "      <th>średnia zadł ogół</th>\n",
              "      <th>podatek</th>\n",
              "      <th>średnia ROA</th>\n",
              "      <th>ln SIZE</th>\n",
              "      <th>wsk rzecz ak trw/ao</th>\n",
              "      <th>wskażnik dywidendy</th>\n",
              "      <th>ryzyko</th>\n",
              "      <th>średnia wsk dźwig fin</th>\n",
              "      <th>sektor_usługi</th>\n",
              "    </tr>\n",
              "  </thead>\n",
              "  <tbody>\n",
              "    <tr>\n",
              "      <th>145</th>\n",
              "      <td>1.0</td>\n",
              "      <td>0.54</td>\n",
              "      <td>0.272940</td>\n",
              "      <td>0.094925</td>\n",
              "      <td>-0.026663</td>\n",
              "      <td>2.458409</td>\n",
              "      <td>1.204544</td>\n",
              "      <td>0.062018</td>\n",
              "      <td>0.092433</td>\n",
              "      <td>1.482761</td>\n",
              "      <td>1</td>\n",
              "    </tr>\n",
              "    <tr>\n",
              "      <th>42</th>\n",
              "      <td>1.0</td>\n",
              "      <td>0.46</td>\n",
              "      <td>0.491887</td>\n",
              "      <td>0.363321</td>\n",
              "      <td>0.036770</td>\n",
              "      <td>2.518711</td>\n",
              "      <td>0.584890</td>\n",
              "      <td>0.038579</td>\n",
              "      <td>0.330172</td>\n",
              "      <td>2.007014</td>\n",
              "      <td>0</td>\n",
              "    </tr>\n",
              "    <tr>\n",
              "      <th>16</th>\n",
              "      <td>1.0</td>\n",
              "      <td>0.46</td>\n",
              "      <td>0.237687</td>\n",
              "      <td>0.155187</td>\n",
              "      <td>0.157203</td>\n",
              "      <td>2.402112</td>\n",
              "      <td>0.144767</td>\n",
              "      <td>0.080884</td>\n",
              "      <td>0.014046</td>\n",
              "      <td>1.407551</td>\n",
              "      <td>0</td>\n",
              "    </tr>\n",
              "    <tr>\n",
              "      <th>10</th>\n",
              "      <td>1.0</td>\n",
              "      <td>0.54</td>\n",
              "      <td>0.229867</td>\n",
              "      <td>0.197347</td>\n",
              "      <td>0.054944</td>\n",
              "      <td>2.526627</td>\n",
              "      <td>1.009794</td>\n",
              "      <td>0.095089</td>\n",
              "      <td>0.058514</td>\n",
              "      <td>1.299907</td>\n",
              "      <td>1</td>\n",
              "    </tr>\n",
              "    <tr>\n",
              "      <th>115</th>\n",
              "      <td>1.0</td>\n",
              "      <td>0.54</td>\n",
              "      <td>0.594191</td>\n",
              "      <td>0.006918</td>\n",
              "      <td>0.053357</td>\n",
              "      <td>2.597946</td>\n",
              "      <td>0.022598</td>\n",
              "      <td>0.040098</td>\n",
              "      <td>0.341333</td>\n",
              "      <td>2.527717</td>\n",
              "      <td>1</td>\n",
              "    </tr>\n",
              "  </tbody>\n",
              "</table>\n",
              "</div>"
            ],
            "text/plain": [
              "     const  mediana  ...  średnia wsk dźwig fin  sektor_usługi\n",
              "145    1.0     0.54  ...               1.482761              1\n",
              "42     1.0     0.46  ...               2.007014              0\n",
              "16     1.0     0.46  ...               1.407551              0\n",
              "10     1.0     0.54  ...               1.299907              1\n",
              "115    1.0     0.54  ...               2.527717              1\n",
              "\n",
              "[5 rows x 11 columns]"
            ]
          },
          "metadata": {
            "tags": []
          },
          "execution_count": 71
        }
      ]
    },
    {
      "cell_type": "code",
      "metadata": {
        "colab": {
          "base_uri": "https://localhost:8080/"
        },
        "id": "MlxHDhDrFE2p",
        "outputId": "e16f65b1-426d-4233-87fc-49c0152788dd"
      },
      "source": [
        "# Sprawdzam regresję\n",
        "ols = sm.OLS(endog=y_train, exog=X_train_ols).fit()\n",
        "predictors = ['const'] + list(X_train.columns)\n",
        "ols.summary()"
      ],
      "execution_count": null,
      "outputs": [
        {
          "output_type": "stream",
          "text": [
            "                            OLS Regression Results                            \n",
            "==============================================================================\n",
            "Dep. Variable:              Struktura   R-squared:                       0.985\n",
            "Model:                            OLS   Adj. R-squared:                  0.983\n",
            "Method:                 Least Squares   F-statistic:                     715.2\n",
            "Date:                Sat, 21 Nov 2020   Prob (F-statistic):           1.43e-86\n",
            "Time:                        18:49:35   Log-Likelihood:                 553.01\n",
            "No. Observations:                 110   AIC:                            -1086.\n",
            "Df Residuals:                     100   BIC:                            -1059.\n",
            "Df Model:                           9                                         \n",
            "Covariance Type:            nonrobust                                         \n",
            "=========================================================================================\n",
            "                            coef    std err          t      P>|t|      [0.025      0.975]\n",
            "-----------------------------------------------------------------------------------------\n",
            "const                     0.0688      0.003     24.593      0.000       0.063       0.074\n",
            "mediana                   0.0315      0.001     24.592      0.000       0.029       0.034\n",
            "średnia zadł ogół         0.0781      0.001     55.782      0.000       0.075       0.081\n",
            "podatek                5.246e-05      0.000      0.195      0.846      -0.000       0.001\n",
            "średnia ROA              -0.0007      0.003     -0.212      0.833      -0.007       0.006\n",
            "ln SIZE                  -0.0328      0.001    -23.471      0.000      -0.036      -0.030\n",
            "wsk rzecz ak trw/ao       0.0011      0.000      2.619      0.010       0.000       0.002\n",
            "wskażnik dywidendy       -0.0012      0.002     -0.497      0.620      -0.006       0.004\n",
            "ryzyko                -4.218e-05      0.000     -0.189      0.851      -0.000       0.000\n",
            "średnia wsk dźwig fin    -0.0003      0.000     -1.619      0.108      -0.001     6.3e-05\n",
            "sektor_usługi            -0.0020      0.000     -5.113      0.000      -0.003      -0.001\n",
            "==============================================================================\n",
            "Omnibus:                       63.357   Durbin-Watson:                   1.730\n",
            "Prob(Omnibus):                  0.000   Jarque-Bera (JB):              481.430\n",
            "Skew:                          -1.698   Prob(JB):                    2.88e-105\n",
            "Kurtosis:                      12.670   Cond. No.                     1.55e+17\n",
            "==============================================================================\n",
            "\n",
            "Warnings:\n",
            "[1] Standard Errors assume that the covariance matrix of the errors is correctly specified.\n",
            "[2] The smallest eigenvalue is 6.85e-32. This might indicate that there are\n",
            "strong multicollinearity problems or that the design matrix is singular.\n"
          ],
          "name": "stdout"
        }
      ]
    },
    {
      "cell_type": "code",
      "metadata": {
        "id": "eH-UdbiIGIvj"
      },
      "source": [
        "# usuwam zmienne nieistotne w modelu z p>0,05\n",
        "X_selected = X_train_ols.drop(\"podatek\", axis=1)\n",
        "\n"
      ],
      "execution_count": null,
      "outputs": []
    },
    {
      "cell_type": "code",
      "metadata": {
        "colab": {
          "base_uri": "https://localhost:8080/",
          "height": 657
        },
        "id": "Q-MNaleMGIoj",
        "outputId": "f19a8c6f-2593-4813-9f70-364315621bf4"
      },
      "source": [
        "ols = sm.OLS(endog=y_train, exog=X_selected).fit()\n",
        "predictors = ['const'] + list(X_train.columns)\n",
        "ols.summary()"
      ],
      "execution_count": null,
      "outputs": [
        {
          "output_type": "execute_result",
          "data": {
            "text/html": [
              "<table class=\"simpletable\">\n",
              "<caption>OLS Regression Results</caption>\n",
              "<tr>\n",
              "  <th>Dep. Variable:</th>        <td>Struktura</td>    <th>  R-squared:         </th> <td>   0.985</td>\n",
              "</tr>\n",
              "<tr>\n",
              "  <th>Model:</th>                   <td>OLS</td>       <th>  Adj. R-squared:    </th> <td>   0.983</td>\n",
              "</tr>\n",
              "<tr>\n",
              "  <th>Method:</th>             <td>Least Squares</td>  <th>  F-statistic:       </th> <td>   812.4</td>\n",
              "</tr>\n",
              "<tr>\n",
              "  <th>Date:</th>             <td>Sat, 21 Nov 2020</td> <th>  Prob (F-statistic):</th> <td>4.94e-88</td>\n",
              "</tr>\n",
              "<tr>\n",
              "  <th>Time:</th>                 <td>18:55:57</td>     <th>  Log-Likelihood:    </th> <td>  552.99</td>\n",
              "</tr>\n",
              "<tr>\n",
              "  <th>No. Observations:</th>      <td>   110</td>      <th>  AIC:               </th> <td>  -1088.</td>\n",
              "</tr>\n",
              "<tr>\n",
              "  <th>Df Residuals:</th>          <td>   101</td>      <th>  BIC:               </th> <td>  -1064.</td>\n",
              "</tr>\n",
              "<tr>\n",
              "  <th>Df Model:</th>              <td>     8</td>      <th>                     </th>     <td> </td>   \n",
              "</tr>\n",
              "<tr>\n",
              "  <th>Covariance Type:</th>      <td>nonrobust</td>    <th>                     </th>     <td> </td>   \n",
              "</tr>\n",
              "</table>\n",
              "<table class=\"simpletable\">\n",
              "<tr>\n",
              "            <td></td>               <th>coef</th>     <th>std err</th>      <th>t</th>      <th>P>|t|</th>  <th>[0.025</th>    <th>0.975]</th>  \n",
              "</tr>\n",
              "<tr>\n",
              "  <th>const</th>                 <td>    0.0688</td> <td>    0.003</td> <td>   24.713</td> <td> 0.000</td> <td>    0.063</td> <td>    0.074</td>\n",
              "</tr>\n",
              "<tr>\n",
              "  <th>mediana</th>               <td>    0.0315</td> <td>    0.001</td> <td>   24.713</td> <td> 0.000</td> <td>    0.029</td> <td>    0.034</td>\n",
              "</tr>\n",
              "<tr>\n",
              "  <th>średnia zadł ogół</th>     <td>    0.0781</td> <td>    0.001</td> <td>   56.056</td> <td> 0.000</td> <td>    0.075</td> <td>    0.081</td>\n",
              "</tr>\n",
              "<tr>\n",
              "  <th>średnia ROA</th>           <td>   -0.0007</td> <td>    0.003</td> <td>   -0.210</td> <td> 0.834</td> <td>   -0.007</td> <td>    0.006</td>\n",
              "</tr>\n",
              "<tr>\n",
              "  <th>ln SIZE</th>               <td>   -0.0328</td> <td>    0.001</td> <td>  -23.600</td> <td> 0.000</td> <td>   -0.036</td> <td>   -0.030</td>\n",
              "</tr>\n",
              "<tr>\n",
              "  <th>wsk rzecz ak trw/ao</th>   <td>    0.0011</td> <td>    0.000</td> <td>    2.630</td> <td> 0.010</td> <td>    0.000</td> <td>    0.002</td>\n",
              "</tr>\n",
              "<tr>\n",
              "  <th>wskażnik dywidendy</th>    <td>   -0.0012</td> <td>    0.002</td> <td>   -0.499</td> <td> 0.619</td> <td>   -0.006</td> <td>    0.004</td>\n",
              "</tr>\n",
              "<tr>\n",
              "  <th>ryzyko</th>                <td>-2.034e-05</td> <td>    0.000</td> <td>   -0.106</td> <td> 0.916</td> <td>   -0.000</td> <td>    0.000</td>\n",
              "</tr>\n",
              "<tr>\n",
              "  <th>średnia wsk dźwig fin</th> <td>   -0.0003</td> <td>    0.000</td> <td>   -1.629</td> <td> 0.106</td> <td>   -0.001</td> <td>  6.1e-05</td>\n",
              "</tr>\n",
              "<tr>\n",
              "  <th>sektor_usługi</th>         <td>   -0.0020</td> <td>    0.000</td> <td>   -5.288</td> <td> 0.000</td> <td>   -0.003</td> <td>   -0.001</td>\n",
              "</tr>\n",
              "</table>\n",
              "<table class=\"simpletable\">\n",
              "<tr>\n",
              "  <th>Omnibus:</th>       <td>63.499</td> <th>  Durbin-Watson:     </th> <td>   1.728</td> \n",
              "</tr>\n",
              "<tr>\n",
              "  <th>Prob(Omnibus):</th> <td> 0.000</td> <th>  Jarque-Bera (JB):  </th> <td> 484.382</td> \n",
              "</tr>\n",
              "<tr>\n",
              "  <th>Skew:</th>          <td>-1.701</td> <th>  Prob(JB):          </th> <td>6.57e-106</td>\n",
              "</tr>\n",
              "<tr>\n",
              "  <th>Kurtosis:</th>      <td>12.701</td> <th>  Cond. No.          </th> <td>8.36e+16</td> \n",
              "</tr>\n",
              "</table><br/><br/>Warnings:<br/>[1] Standard Errors assume that the covariance matrix of the errors is correctly specified.<br/>[2] The smallest eigenvalue is 2.34e-31. This might indicate that there are<br/>strong multicollinearity problems or that the design matrix is singular."
            ],
            "text/plain": [
              "<class 'statsmodels.iolib.summary.Summary'>\n",
              "\"\"\"\n",
              "                            OLS Regression Results                            \n",
              "==============================================================================\n",
              "Dep. Variable:              Struktura   R-squared:                       0.985\n",
              "Model:                            OLS   Adj. R-squared:                  0.983\n",
              "Method:                 Least Squares   F-statistic:                     812.4\n",
              "Date:                Sat, 21 Nov 2020   Prob (F-statistic):           4.94e-88\n",
              "Time:                        18:55:57   Log-Likelihood:                 552.99\n",
              "No. Observations:                 110   AIC:                            -1088.\n",
              "Df Residuals:                     101   BIC:                            -1064.\n",
              "Df Model:                           8                                         \n",
              "Covariance Type:            nonrobust                                         \n",
              "=========================================================================================\n",
              "                            coef    std err          t      P>|t|      [0.025      0.975]\n",
              "-----------------------------------------------------------------------------------------\n",
              "const                     0.0688      0.003     24.713      0.000       0.063       0.074\n",
              "mediana                   0.0315      0.001     24.713      0.000       0.029       0.034\n",
              "średnia zadł ogół         0.0781      0.001     56.056      0.000       0.075       0.081\n",
              "średnia ROA              -0.0007      0.003     -0.210      0.834      -0.007       0.006\n",
              "ln SIZE                  -0.0328      0.001    -23.600      0.000      -0.036      -0.030\n",
              "wsk rzecz ak trw/ao       0.0011      0.000      2.630      0.010       0.000       0.002\n",
              "wskażnik dywidendy       -0.0012      0.002     -0.499      0.619      -0.006       0.004\n",
              "ryzyko                -2.034e-05      0.000     -0.106      0.916      -0.000       0.000\n",
              "średnia wsk dźwig fin    -0.0003      0.000     -1.629      0.106      -0.001     6.1e-05\n",
              "sektor_usługi            -0.0020      0.000     -5.288      0.000      -0.003      -0.001\n",
              "==============================================================================\n",
              "Omnibus:                       63.499   Durbin-Watson:                   1.728\n",
              "Prob(Omnibus):                  0.000   Jarque-Bera (JB):              484.382\n",
              "Skew:                          -1.701   Prob(JB):                    6.57e-106\n",
              "Kurtosis:                      12.701   Cond. No.                     8.36e+16\n",
              "==============================================================================\n",
              "\n",
              "Warnings:\n",
              "[1] Standard Errors assume that the covariance matrix of the errors is correctly specified.\n",
              "[2] The smallest eigenvalue is 2.34e-31. This might indicate that there are\n",
              "strong multicollinearity problems or that the design matrix is singular.\n",
              "\"\"\""
            ]
          },
          "metadata": {
            "tags": []
          },
          "execution_count": 85
        }
      ]
    },
    {
      "cell_type": "code",
      "metadata": {
        "colab": {
          "base_uri": "https://localhost:8080/",
          "height": 636
        },
        "id": "QvGWu6ZeH6Fz",
        "outputId": "41638d80-9176-4bc5-bcb7-05f196f77228"
      },
      "source": [
        "X_selected_2 = X_selected.drop(\"średnia ROA\", axis=1)\n",
        "ols = sm.OLS(endog=y_train, exog=X_selected_2).fit()\n",
        "predictors = ['const'] + list(X_train.columns)\n",
        "ols.summary()"
      ],
      "execution_count": null,
      "outputs": [
        {
          "output_type": "execute_result",
          "data": {
            "text/html": [
              "<table class=\"simpletable\">\n",
              "<caption>OLS Regression Results</caption>\n",
              "<tr>\n",
              "  <th>Dep. Variable:</th>        <td>Struktura</td>    <th>  R-squared:         </th> <td>   0.985</td>\n",
              "</tr>\n",
              "<tr>\n",
              "  <th>Model:</th>                   <td>OLS</td>       <th>  Adj. R-squared:    </th> <td>   0.984</td>\n",
              "</tr>\n",
              "<tr>\n",
              "  <th>Method:</th>             <td>Least Squares</td>  <th>  F-statistic:       </th> <td>   937.2</td>\n",
              "</tr>\n",
              "<tr>\n",
              "  <th>Date:</th>             <td>Sat, 21 Nov 2020</td> <th>  Prob (F-statistic):</th> <td>1.59e-89</td>\n",
              "</tr>\n",
              "<tr>\n",
              "  <th>Time:</th>                 <td>18:57:45</td>     <th>  Log-Likelihood:    </th> <td>  552.97</td>\n",
              "</tr>\n",
              "<tr>\n",
              "  <th>No. Observations:</th>      <td>   110</td>      <th>  AIC:               </th> <td>  -1090.</td>\n",
              "</tr>\n",
              "<tr>\n",
              "  <th>Df Residuals:</th>          <td>   102</td>      <th>  BIC:               </th> <td>  -1068.</td>\n",
              "</tr>\n",
              "<tr>\n",
              "  <th>Df Model:</th>              <td>     7</td>      <th>                     </th>     <td> </td>   \n",
              "</tr>\n",
              "<tr>\n",
              "  <th>Covariance Type:</th>      <td>nonrobust</td>    <th>                     </th>     <td> </td>   \n",
              "</tr>\n",
              "</table>\n",
              "<table class=\"simpletable\">\n",
              "<tr>\n",
              "            <td></td>               <th>coef</th>     <th>std err</th>      <th>t</th>      <th>P>|t|</th>  <th>[0.025</th>    <th>0.975]</th>  \n",
              "</tr>\n",
              "<tr>\n",
              "  <th>const</th>                 <td>    0.0689</td> <td>    0.003</td> <td>   25.358</td> <td> 0.000</td> <td>    0.064</td> <td>    0.074</td>\n",
              "</tr>\n",
              "<tr>\n",
              "  <th>mediana</th>               <td>    0.0316</td> <td>    0.001</td> <td>   25.374</td> <td> 0.000</td> <td>    0.029</td> <td>    0.034</td>\n",
              "</tr>\n",
              "<tr>\n",
              "  <th>średnia zadł ogół</th>     <td>    0.0782</td> <td>    0.001</td> <td>   58.180</td> <td> 0.000</td> <td>    0.075</td> <td>    0.081</td>\n",
              "</tr>\n",
              "<tr>\n",
              "  <th>ln SIZE</th>               <td>   -0.0329</td> <td>    0.001</td> <td>  -24.473</td> <td> 0.000</td> <td>   -0.036</td> <td>   -0.030</td>\n",
              "</tr>\n",
              "<tr>\n",
              "  <th>wsk rzecz ak trw/ao</th>   <td>    0.0011</td> <td>    0.000</td> <td>    2.650</td> <td> 0.009</td> <td>    0.000</td> <td>    0.002</td>\n",
              "</tr>\n",
              "<tr>\n",
              "  <th>wskażnik dywidendy</th>    <td>   -0.0014</td> <td>    0.002</td> <td>   -0.627</td> <td> 0.532</td> <td>   -0.006</td> <td>    0.003</td>\n",
              "</tr>\n",
              "<tr>\n",
              "  <th>ryzyko</th>                <td> -1.84e-05</td> <td>    0.000</td> <td>   -0.096</td> <td> 0.924</td> <td>   -0.000</td> <td>    0.000</td>\n",
              "</tr>\n",
              "<tr>\n",
              "  <th>średnia wsk dźwig fin</th> <td>   -0.0003</td> <td>    0.000</td> <td>   -1.684</td> <td> 0.095</td> <td>   -0.001</td> <td> 5.07e-05</td>\n",
              "</tr>\n",
              "<tr>\n",
              "  <th>sektor_usługi</th>         <td>   -0.0020</td> <td>    0.000</td> <td>   -5.312</td> <td> 0.000</td> <td>   -0.003</td> <td>   -0.001</td>\n",
              "</tr>\n",
              "</table>\n",
              "<table class=\"simpletable\">\n",
              "<tr>\n",
              "  <th>Omnibus:</th>       <td>62.704</td> <th>  Durbin-Watson:     </th> <td>   1.722</td> \n",
              "</tr>\n",
              "<tr>\n",
              "  <th>Prob(Omnibus):</th> <td> 0.000</td> <th>  Jarque-Bera (JB):  </th> <td> 473.080</td> \n",
              "</tr>\n",
              "<tr>\n",
              "  <th>Skew:</th>          <td>-1.677</td> <th>  Prob(JB):          </th> <td>1.87e-103</td>\n",
              "</tr>\n",
              "<tr>\n",
              "  <th>Kurtosis:</th>      <td>12.590</td> <th>  Cond. No.          </th> <td>8.30e+16</td> \n",
              "</tr>\n",
              "</table><br/><br/>Warnings:<br/>[1] Standard Errors assume that the covariance matrix of the errors is correctly specified.<br/>[2] The smallest eigenvalue is 2.38e-31. This might indicate that there are<br/>strong multicollinearity problems or that the design matrix is singular."
            ],
            "text/plain": [
              "<class 'statsmodels.iolib.summary.Summary'>\n",
              "\"\"\"\n",
              "                            OLS Regression Results                            \n",
              "==============================================================================\n",
              "Dep. Variable:              Struktura   R-squared:                       0.985\n",
              "Model:                            OLS   Adj. R-squared:                  0.984\n",
              "Method:                 Least Squares   F-statistic:                     937.2\n",
              "Date:                Sat, 21 Nov 2020   Prob (F-statistic):           1.59e-89\n",
              "Time:                        18:57:45   Log-Likelihood:                 552.97\n",
              "No. Observations:                 110   AIC:                            -1090.\n",
              "Df Residuals:                     102   BIC:                            -1068.\n",
              "Df Model:                           7                                         \n",
              "Covariance Type:            nonrobust                                         \n",
              "=========================================================================================\n",
              "                            coef    std err          t      P>|t|      [0.025      0.975]\n",
              "-----------------------------------------------------------------------------------------\n",
              "const                     0.0689      0.003     25.358      0.000       0.064       0.074\n",
              "mediana                   0.0316      0.001     25.374      0.000       0.029       0.034\n",
              "średnia zadł ogół         0.0782      0.001     58.180      0.000       0.075       0.081\n",
              "ln SIZE                  -0.0329      0.001    -24.473      0.000      -0.036      -0.030\n",
              "wsk rzecz ak trw/ao       0.0011      0.000      2.650      0.009       0.000       0.002\n",
              "wskażnik dywidendy       -0.0014      0.002     -0.627      0.532      -0.006       0.003\n",
              "ryzyko                 -1.84e-05      0.000     -0.096      0.924      -0.000       0.000\n",
              "średnia wsk dźwig fin    -0.0003      0.000     -1.684      0.095      -0.001    5.07e-05\n",
              "sektor_usługi            -0.0020      0.000     -5.312      0.000      -0.003      -0.001\n",
              "==============================================================================\n",
              "Omnibus:                       62.704   Durbin-Watson:                   1.722\n",
              "Prob(Omnibus):                  0.000   Jarque-Bera (JB):              473.080\n",
              "Skew:                          -1.677   Prob(JB):                    1.87e-103\n",
              "Kurtosis:                      12.590   Cond. No.                     8.30e+16\n",
              "==============================================================================\n",
              "\n",
              "Warnings:\n",
              "[1] Standard Errors assume that the covariance matrix of the errors is correctly specified.\n",
              "[2] The smallest eigenvalue is 2.38e-31. This might indicate that there are\n",
              "strong multicollinearity problems or that the design matrix is singular.\n",
              "\"\"\""
            ]
          },
          "metadata": {
            "tags": []
          },
          "execution_count": 86
        }
      ]
    },
    {
      "cell_type": "code",
      "metadata": {
        "colab": {
          "base_uri": "https://localhost:8080/",
          "height": 615
        },
        "id": "ttbaL0TWLBkx",
        "outputId": "012bd5f2-dbcd-4b62-cbe0-73dae1594df0"
      },
      "source": [
        "X_selected_3 = X_selected_2.drop(\"ryzyko\", axis=1)\n",
        "ols = sm.OLS(endog=y_train, exog=X_selected_3).fit()\n",
        "predictors = ['const'] + list(X_train.columns)\n",
        "ols.summary()"
      ],
      "execution_count": null,
      "outputs": [
        {
          "output_type": "execute_result",
          "data": {
            "text/html": [
              "<table class=\"simpletable\">\n",
              "<caption>OLS Regression Results</caption>\n",
              "<tr>\n",
              "  <th>Dep. Variable:</th>        <td>Struktura</td>    <th>  R-squared:         </th> <td>   0.985</td>\n",
              "</tr>\n",
              "<tr>\n",
              "  <th>Model:</th>                   <td>OLS</td>       <th>  Adj. R-squared:    </th> <td>   0.984</td>\n",
              "</tr>\n",
              "<tr>\n",
              "  <th>Method:</th>             <td>Least Squares</td>  <th>  F-statistic:       </th> <td>   1104.</td>\n",
              "</tr>\n",
              "<tr>\n",
              "  <th>Date:</th>             <td>Sat, 21 Nov 2020</td> <th>  Prob (F-statistic):</th> <td>4.60e-91</td>\n",
              "</tr>\n",
              "<tr>\n",
              "  <th>Time:</th>                 <td>18:58:54</td>     <th>  Log-Likelihood:    </th> <td>  552.96</td>\n",
              "</tr>\n",
              "<tr>\n",
              "  <th>No. Observations:</th>      <td>   110</td>      <th>  AIC:               </th> <td>  -1092.</td>\n",
              "</tr>\n",
              "<tr>\n",
              "  <th>Df Residuals:</th>          <td>   103</td>      <th>  BIC:               </th> <td>  -1073.</td>\n",
              "</tr>\n",
              "<tr>\n",
              "  <th>Df Model:</th>              <td>     6</td>      <th>                     </th>     <td> </td>   \n",
              "</tr>\n",
              "<tr>\n",
              "  <th>Covariance Type:</th>      <td>nonrobust</td>    <th>                     </th>     <td> </td>   \n",
              "</tr>\n",
              "</table>\n",
              "<table class=\"simpletable\">\n",
              "<tr>\n",
              "            <td></td>               <th>coef</th>     <th>std err</th>      <th>t</th>      <th>P>|t|</th>  <th>[0.025</th>    <th>0.975]</th>  \n",
              "</tr>\n",
              "<tr>\n",
              "  <th>const</th>                 <td>    0.0689</td> <td>    0.003</td> <td>   25.647</td> <td> 0.000</td> <td>    0.064</td> <td>    0.074</td>\n",
              "</tr>\n",
              "<tr>\n",
              "  <th>mediana</th>               <td>    0.0315</td> <td>    0.001</td> <td>   25.673</td> <td> 0.000</td> <td>    0.029</td> <td>    0.034</td>\n",
              "</tr>\n",
              "<tr>\n",
              "  <th>średnia zadł ogół</th>     <td>    0.0781</td> <td>    0.001</td> <td>   58.963</td> <td> 0.000</td> <td>    0.076</td> <td>    0.081</td>\n",
              "</tr>\n",
              "<tr>\n",
              "  <th>ln SIZE</th>               <td>   -0.0329</td> <td>    0.001</td> <td>  -24.769</td> <td> 0.000</td> <td>   -0.035</td> <td>   -0.030</td>\n",
              "</tr>\n",
              "<tr>\n",
              "  <th>wsk rzecz ak trw/ao</th>   <td>    0.0011</td> <td>    0.000</td> <td>    2.701</td> <td> 0.008</td> <td>    0.000</td> <td>    0.002</td>\n",
              "</tr>\n",
              "<tr>\n",
              "  <th>wskażnik dywidendy</th>    <td>   -0.0013</td> <td>    0.002</td> <td>   -0.623</td> <td> 0.535</td> <td>   -0.006</td> <td>    0.003</td>\n",
              "</tr>\n",
              "<tr>\n",
              "  <th>średnia wsk dźwig fin</th> <td>   -0.0003</td> <td>    0.000</td> <td>   -1.690</td> <td> 0.094</td> <td>   -0.001</td> <td> 4.94e-05</td>\n",
              "</tr>\n",
              "<tr>\n",
              "  <th>sektor_usługi</th>         <td>   -0.0020</td> <td>    0.000</td> <td>   -5.379</td> <td> 0.000</td> <td>   -0.003</td> <td>   -0.001</td>\n",
              "</tr>\n",
              "</table>\n",
              "<table class=\"simpletable\">\n",
              "<tr>\n",
              "  <th>Omnibus:</th>       <td>62.592</td> <th>  Durbin-Watson:     </th> <td>   1.717</td> \n",
              "</tr>\n",
              "<tr>\n",
              "  <th>Prob(Omnibus):</th> <td> 0.000</td> <th>  Jarque-Bera (JB):  </th> <td> 471.992</td> \n",
              "</tr>\n",
              "<tr>\n",
              "  <th>Skew:</th>          <td>-1.673</td> <th>  Prob(JB):          </th> <td>3.22e-103</td>\n",
              "</tr>\n",
              "<tr>\n",
              "  <th>Kurtosis:</th>      <td>12.580</td> <th>  Cond. No.          </th> <td>9.37e+16</td> \n",
              "</tr>\n",
              "</table><br/><br/>Warnings:<br/>[1] Standard Errors assume that the covariance matrix of the errors is correctly specified.<br/>[2] The smallest eigenvalue is 1.84e-31. This might indicate that there are<br/>strong multicollinearity problems or that the design matrix is singular."
            ],
            "text/plain": [
              "<class 'statsmodels.iolib.summary.Summary'>\n",
              "\"\"\"\n",
              "                            OLS Regression Results                            \n",
              "==============================================================================\n",
              "Dep. Variable:              Struktura   R-squared:                       0.985\n",
              "Model:                            OLS   Adj. R-squared:                  0.984\n",
              "Method:                 Least Squares   F-statistic:                     1104.\n",
              "Date:                Sat, 21 Nov 2020   Prob (F-statistic):           4.60e-91\n",
              "Time:                        18:58:54   Log-Likelihood:                 552.96\n",
              "No. Observations:                 110   AIC:                            -1092.\n",
              "Df Residuals:                     103   BIC:                            -1073.\n",
              "Df Model:                           6                                         \n",
              "Covariance Type:            nonrobust                                         \n",
              "=========================================================================================\n",
              "                            coef    std err          t      P>|t|      [0.025      0.975]\n",
              "-----------------------------------------------------------------------------------------\n",
              "const                     0.0689      0.003     25.647      0.000       0.064       0.074\n",
              "mediana                   0.0315      0.001     25.673      0.000       0.029       0.034\n",
              "średnia zadł ogół         0.0781      0.001     58.963      0.000       0.076       0.081\n",
              "ln SIZE                  -0.0329      0.001    -24.769      0.000      -0.035      -0.030\n",
              "wsk rzecz ak trw/ao       0.0011      0.000      2.701      0.008       0.000       0.002\n",
              "wskażnik dywidendy       -0.0013      0.002     -0.623      0.535      -0.006       0.003\n",
              "średnia wsk dźwig fin    -0.0003      0.000     -1.690      0.094      -0.001    4.94e-05\n",
              "sektor_usługi            -0.0020      0.000     -5.379      0.000      -0.003      -0.001\n",
              "==============================================================================\n",
              "Omnibus:                       62.592   Durbin-Watson:                   1.717\n",
              "Prob(Omnibus):                  0.000   Jarque-Bera (JB):              471.992\n",
              "Skew:                          -1.673   Prob(JB):                    3.22e-103\n",
              "Kurtosis:                      12.580   Cond. No.                     9.37e+16\n",
              "==============================================================================\n",
              "\n",
              "Warnings:\n",
              "[1] Standard Errors assume that the covariance matrix of the errors is correctly specified.\n",
              "[2] The smallest eigenvalue is 1.84e-31. This might indicate that there are\n",
              "strong multicollinearity problems or that the design matrix is singular.\n",
              "\"\"\""
            ]
          },
          "metadata": {
            "tags": []
          },
          "execution_count": 87
        }
      ]
    },
    {
      "cell_type": "code",
      "metadata": {
        "colab": {
          "base_uri": "https://localhost:8080/",
          "height": 593
        },
        "id": "I4YG_7UjLMVt",
        "outputId": "12dff9f4-19f0-4776-8e1d-8385c46b0043"
      },
      "source": [
        "X_selected_4 = X_selected_3.drop(\"wskażnik dywidendy\", axis=1)\n",
        "ols = sm.OLS(endog=y_train, exog=X_selected_4).fit()\n",
        "predictors = ['const'] + list(X_train.columns)\n",
        "ols.summary()"
      ],
      "execution_count": null,
      "outputs": [
        {
          "output_type": "execute_result",
          "data": {
            "text/html": [
              "<table class=\"simpletable\">\n",
              "<caption>OLS Regression Results</caption>\n",
              "<tr>\n",
              "  <th>Dep. Variable:</th>        <td>Struktura</td>    <th>  R-squared:         </th> <td>   0.985</td>\n",
              "</tr>\n",
              "<tr>\n",
              "  <th>Model:</th>                   <td>OLS</td>       <th>  Adj. R-squared:    </th> <td>   0.984</td>\n",
              "</tr>\n",
              "<tr>\n",
              "  <th>Method:</th>             <td>Least Squares</td>  <th>  F-statistic:       </th> <td>   1333.</td>\n",
              "</tr>\n",
              "<tr>\n",
              "  <th>Date:</th>             <td>Sat, 21 Nov 2020</td> <th>  Prob (F-statistic):</th> <td>1.45e-92</td>\n",
              "</tr>\n",
              "<tr>\n",
              "  <th>Time:</th>                 <td>19:00:05</td>     <th>  Log-Likelihood:    </th> <td>  552.76</td>\n",
              "</tr>\n",
              "<tr>\n",
              "  <th>No. Observations:</th>      <td>   110</td>      <th>  AIC:               </th> <td>  -1094.</td>\n",
              "</tr>\n",
              "<tr>\n",
              "  <th>Df Residuals:</th>          <td>   104</td>      <th>  BIC:               </th> <td>  -1077.</td>\n",
              "</tr>\n",
              "<tr>\n",
              "  <th>Df Model:</th>              <td>     5</td>      <th>                     </th>     <td> </td>   \n",
              "</tr>\n",
              "<tr>\n",
              "  <th>Covariance Type:</th>      <td>nonrobust</td>    <th>                     </th>     <td> </td>   \n",
              "</tr>\n",
              "</table>\n",
              "<table class=\"simpletable\">\n",
              "<tr>\n",
              "            <td></td>               <th>coef</th>     <th>std err</th>      <th>t</th>      <th>P>|t|</th>  <th>[0.025</th>    <th>0.975]</th>  \n",
              "</tr>\n",
              "<tr>\n",
              "  <th>const</th>                 <td>    0.0688</td> <td>    0.003</td> <td>   25.723</td> <td> 0.000</td> <td>    0.064</td> <td>    0.074</td>\n",
              "</tr>\n",
              "<tr>\n",
              "  <th>mediana</th>               <td>    0.0315</td> <td>    0.001</td> <td>   25.749</td> <td> 0.000</td> <td>    0.029</td> <td>    0.034</td>\n",
              "</tr>\n",
              "<tr>\n",
              "  <th>średnia zadł ogół</th>     <td>    0.0781</td> <td>    0.001</td> <td>   59.143</td> <td> 0.000</td> <td>    0.076</td> <td>    0.081</td>\n",
              "</tr>\n",
              "<tr>\n",
              "  <th>ln SIZE</th>               <td>   -0.0329</td> <td>    0.001</td> <td>  -24.845</td> <td> 0.000</td> <td>   -0.035</td> <td>   -0.030</td>\n",
              "</tr>\n",
              "<tr>\n",
              "  <th>wsk rzecz ak trw/ao</th>   <td>    0.0011</td> <td>    0.000</td> <td>    2.751</td> <td> 0.007</td> <td>    0.000</td> <td>    0.002</td>\n",
              "</tr>\n",
              "<tr>\n",
              "  <th>średnia wsk dźwig fin</th> <td>   -0.0003</td> <td>    0.000</td> <td>   -1.628</td> <td> 0.106</td> <td>   -0.001</td> <td>  5.9e-05</td>\n",
              "</tr>\n",
              "<tr>\n",
              "  <th>sektor_usługi</th>         <td>   -0.0020</td> <td>    0.000</td> <td>   -5.417</td> <td> 0.000</td> <td>   -0.003</td> <td>   -0.001</td>\n",
              "</tr>\n",
              "</table>\n",
              "<table class=\"simpletable\">\n",
              "<tr>\n",
              "  <th>Omnibus:</th>       <td>62.157</td> <th>  Durbin-Watson:     </th> <td>   1.720</td> \n",
              "</tr>\n",
              "<tr>\n",
              "  <th>Prob(Omnibus):</th> <td> 0.000</td> <th>  Jarque-Bera (JB):  </th> <td> 458.075</td> \n",
              "</tr>\n",
              "<tr>\n",
              "  <th>Skew:</th>          <td>-1.667</td> <th>  Prob(JB):          </th> <td>3.39e-100</td>\n",
              "</tr>\n",
              "<tr>\n",
              "  <th>Kurtosis:</th>      <td>12.425</td> <th>  Cond. No.          </th> <td>1.52e+17</td> \n",
              "</tr>\n",
              "</table><br/><br/>Warnings:<br/>[1] Standard Errors assume that the covariance matrix of the errors is correctly specified.<br/>[2] The smallest eigenvalue is 7.03e-32. This might indicate that there are<br/>strong multicollinearity problems or that the design matrix is singular."
            ],
            "text/plain": [
              "<class 'statsmodels.iolib.summary.Summary'>\n",
              "\"\"\"\n",
              "                            OLS Regression Results                            \n",
              "==============================================================================\n",
              "Dep. Variable:              Struktura   R-squared:                       0.985\n",
              "Model:                            OLS   Adj. R-squared:                  0.984\n",
              "Method:                 Least Squares   F-statistic:                     1333.\n",
              "Date:                Sat, 21 Nov 2020   Prob (F-statistic):           1.45e-92\n",
              "Time:                        19:00:05   Log-Likelihood:                 552.76\n",
              "No. Observations:                 110   AIC:                            -1094.\n",
              "Df Residuals:                     104   BIC:                            -1077.\n",
              "Df Model:                           5                                         \n",
              "Covariance Type:            nonrobust                                         \n",
              "=========================================================================================\n",
              "                            coef    std err          t      P>|t|      [0.025      0.975]\n",
              "-----------------------------------------------------------------------------------------\n",
              "const                     0.0688      0.003     25.723      0.000       0.064       0.074\n",
              "mediana                   0.0315      0.001     25.749      0.000       0.029       0.034\n",
              "średnia zadł ogół         0.0781      0.001     59.143      0.000       0.076       0.081\n",
              "ln SIZE                  -0.0329      0.001    -24.845      0.000      -0.035      -0.030\n",
              "wsk rzecz ak trw/ao       0.0011      0.000      2.751      0.007       0.000       0.002\n",
              "średnia wsk dźwig fin    -0.0003      0.000     -1.628      0.106      -0.001     5.9e-05\n",
              "sektor_usługi            -0.0020      0.000     -5.417      0.000      -0.003      -0.001\n",
              "==============================================================================\n",
              "Omnibus:                       62.157   Durbin-Watson:                   1.720\n",
              "Prob(Omnibus):                  0.000   Jarque-Bera (JB):              458.075\n",
              "Skew:                          -1.667   Prob(JB):                    3.39e-100\n",
              "Kurtosis:                      12.425   Cond. No.                     1.52e+17\n",
              "==============================================================================\n",
              "\n",
              "Warnings:\n",
              "[1] Standard Errors assume that the covariance matrix of the errors is correctly specified.\n",
              "[2] The smallest eigenvalue is 7.03e-32. This might indicate that there are\n",
              "strong multicollinearity problems or that the design matrix is singular.\n",
              "\"\"\""
            ]
          },
          "metadata": {
            "tags": []
          },
          "execution_count": 89
        }
      ]
    },
    {
      "cell_type": "code",
      "metadata": {
        "colab": {
          "base_uri": "https://localhost:8080/"
        },
        "id": "JmvJN_0fUOkn",
        "outputId": "6c440cd9-b8aa-4a8b-fa2a-8d41e5ab19b5"
      },
      "source": [
        "# przypominam wartość \"mediany dla sektora\"\n",
        "df2.groupby('sektor')['mediana'].unique()"
      ],
      "execution_count": null,
      "outputs": [
        {
          "output_type": "execute_result",
          "data": {
            "text/plain": [
              "sektor\n",
              "przemysł    [0.46]\n",
              "usługi      [0.54]\n",
              "Name: mediana, dtype: object"
            ]
          },
          "metadata": {
            "tags": []
          },
          "execution_count": 93
        }
      ]
    },
    {
      "cell_type": "code",
      "metadata": {
        "id": "wv5ZkpdIM8-G"
      },
      "source": [
        "ols.save(\"model_regresji_liniowej\")"
      ],
      "execution_count": null,
      "outputs": []
    },
    {
      "cell_type": "markdown",
      "metadata": {
        "id": "z3zynxQiQBTE"
      },
      "source": [
        "**Ocena modelu:**\n",
        "\n",
        "*Model wyjaśnił 98,5% zmienności zmiennej zależnej. Predykcja modelu na poziomie 98,5%.*"
      ]
    },
    {
      "cell_type": "markdown",
      "metadata": {
        "id": "co9WD4a2QsyA"
      },
      "source": [
        "**Generuję model:**\n",
        "\n",
        "Y = 0,688 + 0,315* Mediana sektora + 0,0781* Zadłużenie ogółem - 0,033 * SIZE + 0,0011 * rzeczowe aktywa trwałe/aktywa ogółem \n",
        "\n",
        "\n",
        "*Pozostałe zmienne okazały się nieistotne dla modelu z p>0,05*"
      ]
    },
    {
      "cell_type": "code",
      "metadata": {
        "id": "sVrqprH3QrGG"
      },
      "source": [
        ""
      ],
      "execution_count": null,
      "outputs": []
    }
  ]
}